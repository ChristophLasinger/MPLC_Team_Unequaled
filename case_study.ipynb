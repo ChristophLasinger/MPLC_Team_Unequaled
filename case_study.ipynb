{
 "cells": [
  {
   "cell_type": "code",
   "execution_count": 1,
   "id": "b92bdc55-635c-4707-b8c6-0d7e9a2b2a28",
   "metadata": {},
   "outputs": [],
   "source": [
    "import os\n",
    "import math\n",
    "\n",
    "# if you've setup your environment, importing these libraries should not throw an error\n",
    "import numpy as np\n",
    "import pandas as pd\n",
    "import sklearn\n",
    "import matplotlib.pyplot as plt\n",
    "\n",
    "PATH_TO_DATASET = 'MLPC2025_dataset'\n",
    "\n",
    "assert os.path.exists(PATH_TO_DATASET), \"The dataset folder 'MLPC2025_dataset' does not exist; download the data set and extract its content.\"\n",
    "assert os.path.exists(os.path.join(PATH_TO_DATASET, 'annotations.csv')), \"The file 'MLPC2025_dataset/annotations.csv' does not exist.\"\n",
    "assert os.path.exists(os.path.join(PATH_TO_DATASET, 'metadata.csv')), \"The file 'MLPC2025_dataset/metadata.csv' does not exist.\"\n",
    "assert os.path.exists(os.path.join(PATH_TO_DATASET, 'audio_features')), \"The folder 'MLPC2025_dataset/audio_featues' does not exist.\""
   ]
  },
  {
   "cell_type": "code",
   "execution_count": 2,
   "id": "396d3e09-7cfa-44ca-9c43-512c26772b9c",
   "metadata": {},
   "outputs": [
    {
     "data": {
      "text/html": [
       "<div>\n",
       "<style scoped>\n",
       "    .dataframe tbody tr th:only-of-type {\n",
       "        vertical-align: middle;\n",
       "    }\n",
       "\n",
       "    .dataframe tbody tr th {\n",
       "        vertical-align: top;\n",
       "    }\n",
       "\n",
       "    .dataframe thead th {\n",
       "        text-align: right;\n",
       "    }\n",
       "</style>\n",
       "<table border=\"1\" class=\"dataframe\">\n",
       "  <thead>\n",
       "    <tr style=\"text-align: right;\">\n",
       "      <th></th>\n",
       "      <th>task_id</th>\n",
       "      <th>filename</th>\n",
       "      <th>annotator</th>\n",
       "      <th>text</th>\n",
       "      <th>onset</th>\n",
       "      <th>offset</th>\n",
       "      <th>filename_unsafe</th>\n",
       "    </tr>\n",
       "  </thead>\n",
       "  <tbody>\n",
       "    <tr>\n",
       "      <th>0</th>\n",
       "      <td>161977861</td>\n",
       "      <td>560761.mp3</td>\n",
       "      <td>5945971035380930099053858595454362549806990533...</td>\n",
       "      <td>bird twitters nearby with a high pitch two times</td>\n",
       "      <td>16.552368</td>\n",
       "      <td>17.271435</td>\n",
       "      <td>560761_tufted titmouse calling.mp3</td>\n",
       "    </tr>\n",
       "    <tr>\n",
       "      <th>1</th>\n",
       "      <td>161987165</td>\n",
       "      <td>240538.mp3</td>\n",
       "      <td>4916274343929406460752597829190197300566135449...</td>\n",
       "      <td>A cow bell clinging repeatedly</td>\n",
       "      <td>12.265866</td>\n",
       "      <td>15.420303</td>\n",
       "      <td>240538_AMB - Cowbell stable Stereowav.mp3</td>\n",
       "    </tr>\n",
       "    <tr>\n",
       "      <th>2</th>\n",
       "      <td>161989998</td>\n",
       "      <td>660337.mp3</td>\n",
       "      <td>8960534646813062318784592632173589349806817458...</td>\n",
       "      <td>A child speaks with a high-pitched voice</td>\n",
       "      <td>12.493984</td>\n",
       "      <td>13.315680</td>\n",
       "      <td>660337_Aeroplane Takeoff From Cabinwav.mp3</td>\n",
       "    </tr>\n",
       "    <tr>\n",
       "      <th>3</th>\n",
       "      <td>161978339</td>\n",
       "      <td>725686.mp3</td>\n",
       "      <td>4540509031938851510799116530500792274849113758...</td>\n",
       "      <td>A high pitch meowing coming from a cat</td>\n",
       "      <td>16.018221</td>\n",
       "      <td>16.991704</td>\n",
       "      <td>725686_Black Cat Talking.mp3</td>\n",
       "    </tr>\n",
       "    <tr>\n",
       "      <th>4</th>\n",
       "      <td>161985729</td>\n",
       "      <td>97606.mp3</td>\n",
       "      <td>1085174475307080254018414698413953957857995126...</td>\n",
       "      <td>An extremely loud brushing sound on a construc...</td>\n",
       "      <td>0.000000</td>\n",
       "      <td>1.626352</td>\n",
       "      <td>97606_jackhammer med distwav.mp3</td>\n",
       "    </tr>\n",
       "  </tbody>\n",
       "</table>\n",
       "</div>"
      ],
      "text/plain": [
       "     task_id    filename                                          annotator  \\\n",
       "0  161977861  560761.mp3  5945971035380930099053858595454362549806990533...   \n",
       "1  161987165  240538.mp3  4916274343929406460752597829190197300566135449...   \n",
       "2  161989998  660337.mp3  8960534646813062318784592632173589349806817458...   \n",
       "3  161978339  725686.mp3  4540509031938851510799116530500792274849113758...   \n",
       "4  161985729   97606.mp3  1085174475307080254018414698413953957857995126...   \n",
       "\n",
       "                                                text      onset     offset  \\\n",
       "0   bird twitters nearby with a high pitch two times  16.552368  17.271435   \n",
       "1                     A cow bell clinging repeatedly  12.265866  15.420303   \n",
       "2          A child speaks with a high-pitched voice   12.493984  13.315680   \n",
       "3             A high pitch meowing coming from a cat  16.018221  16.991704   \n",
       "4  An extremely loud brushing sound on a construc...   0.000000   1.626352   \n",
       "\n",
       "                              filename_unsafe  \n",
       "0          560761_tufted titmouse calling.mp3  \n",
       "1   240538_AMB - Cowbell stable Stereowav.mp3  \n",
       "2  660337_Aeroplane Takeoff From Cabinwav.mp3  \n",
       "3                725686_Black Cat Talking.mp3  \n",
       "4            97606_jackhammer med distwav.mp3  "
      ]
     },
     "execution_count": 2,
     "metadata": {},
     "output_type": "execute_result"
    }
   ],
   "source": [
    "annotations = pd.read_csv(\"MLPC2025_dataset/annotations.csv\")\n",
    "annotations.head(5)"
   ]
  },
  {
   "cell_type": "code",
   "execution_count": 3,
   "id": "e92bd67b-100f-453d-ae16-4ce162928302",
   "metadata": {
    "tags": []
   },
   "outputs": [
    {
     "data": {
      "text/html": [
       "<div>\n",
       "<style scoped>\n",
       "    .dataframe tbody tr th:only-of-type {\n",
       "        vertical-align: middle;\n",
       "    }\n",
       "\n",
       "    .dataframe tbody tr th {\n",
       "        vertical-align: top;\n",
       "    }\n",
       "\n",
       "    .dataframe thead th {\n",
       "        text-align: right;\n",
       "    }\n",
       "</style>\n",
       "<table border=\"1\" class=\"dataframe\">\n",
       "  <thead>\n",
       "    <tr style=\"text-align: right;\">\n",
       "      <th></th>\n",
       "      <th>filename</th>\n",
       "      <th>keywords</th>\n",
       "      <th>freesound_id</th>\n",
       "      <th>sound_link</th>\n",
       "      <th>manufacturer</th>\n",
       "      <th>license</th>\n",
       "      <th>title</th>\n",
       "      <th>description</th>\n",
       "      <th>num_downloads</th>\n",
       "      <th>geotag</th>\n",
       "      <th>start_time_s</th>\n",
       "      <th>end_time_s</th>\n",
       "    </tr>\n",
       "  </thead>\n",
       "  <tbody>\n",
       "    <tr>\n",
       "      <th>0</th>\n",
       "      <td>617030.mp3</td>\n",
       "      <td>atmosphere, general-noise, suburban, ambiance,...</td>\n",
       "      <td>617030</td>\n",
       "      <td>https://freesound.org/people/klankbeeld/sounds...</td>\n",
       "      <td>klankbeeld</td>\n",
       "      <td>https://creativecommons.org/licenses/by/4.0/</td>\n",
       "      <td>suburb night NL 1041PM 210415_0279.wav</td>\n",
       "      <td>Night in a suburban city.  All sounds far. Tra...</td>\n",
       "      <td>65</td>\n",
       "      <td>51.7090740261 5.30657821347</td>\n",
       "      <td>15.6</td>\n",
       "      <td>43.535</td>\n",
       "    </tr>\n",
       "    <tr>\n",
       "      <th>1</th>\n",
       "      <td>637408.mp3</td>\n",
       "      <td>jackhammer, construction, reflected</td>\n",
       "      <td>637408</td>\n",
       "      <td>https://freesound.org/people/kyles/sounds/637408/</td>\n",
       "      <td>kyles</td>\n",
       "      <td>http://creativecommons.org/publicdomain/zero/1.0/</td>\n",
       "      <td>construction jackhammer reflected5.flac</td>\n",
       "      <td>construction jackhammer reflected5\\n\\nrecorded...</td>\n",
       "      <td>23</td>\n",
       "      <td>NaN</td>\n",
       "      <td>209.8</td>\n",
       "      <td>232.356</td>\n",
       "    </tr>\n",
       "  </tbody>\n",
       "</table>\n",
       "</div>"
      ],
      "text/plain": [
       "     filename                                           keywords  \\\n",
       "0  617030.mp3  atmosphere, general-noise, suburban, ambiance,...   \n",
       "1  637408.mp3                jackhammer, construction, reflected   \n",
       "\n",
       "   freesound_id                                         sound_link  \\\n",
       "0        617030  https://freesound.org/people/klankbeeld/sounds...   \n",
       "1        637408  https://freesound.org/people/kyles/sounds/637408/   \n",
       "\n",
       "  manufacturer                                            license  \\\n",
       "0   klankbeeld       https://creativecommons.org/licenses/by/4.0/   \n",
       "1        kyles  http://creativecommons.org/publicdomain/zero/1.0/   \n",
       "\n",
       "                                     title  \\\n",
       "0   suburb night NL 1041PM 210415_0279.wav   \n",
       "1  construction jackhammer reflected5.flac   \n",
       "\n",
       "                                         description  num_downloads  \\\n",
       "0  Night in a suburban city.  All sounds far. Tra...             65   \n",
       "1  construction jackhammer reflected5\\n\\nrecorded...             23   \n",
       "\n",
       "                        geotag  start_time_s  end_time_s  \n",
       "0  51.7090740261 5.30657821347          15.6      43.535  \n",
       "1                          NaN         209.8     232.356  "
      ]
     },
     "execution_count": 3,
     "metadata": {},
     "output_type": "execute_result"
    }
   ],
   "source": [
    "metadata = pd.read_csv(\"MLPC2025_dataset/metadata.csv\")\n",
    "metadata.head(2)"
   ]
  },
  {
   "cell_type": "code",
   "execution_count": 4,
   "id": "6a768341-c941-42dd-bca4-d33dab277797",
   "metadata": {
    "tags": []
   },
   "outputs": [
    {
     "name": "stdout",
     "output_type": "stream",
     "text": [
      "(55, 7)\n",
      "691      407115.mp3\n",
      "1463     582364.mp3\n",
      "1851     424366.mp3\n",
      "2152     352781.mp3\n",
      "4199     515081.mp3\n",
      "12871    535624.mp3\n",
      "Name: filename, dtype: object\n",
      "There are 6 audio files with >= 3 annotators\n"
     ]
    }
   ],
   "source": [
    "annotator_counts = annotations.groupby(\"filename\")[\"annotator\"].nunique()\n",
    "files_with_3_or_more_annotators = annotator_counts[annotator_counts >= 3].index.tolist()\n",
    "annotations_filtered_3 = annotations[annotations[\"filename\"].isin(files_with_3_or_more_annotators)]\n",
    "\n",
    "print(annotations_filtered_3.shape)\n",
    "print(annotations_filtered_3[\"filename\"].drop_duplicates())\n",
    "# print(annotations_filtered.iloc[50, :])\n",
    "print(f\"There are {len(annotations_filtered_3[['filename']].drop_duplicates())} audio files with >= 3 annotators\")\n"
   ]
  },
  {
   "cell_type": "code",
   "execution_count": 5,
   "id": "b6dbf863-f440-49e8-be76-81f567137eb1",
   "metadata": {
    "tags": []
   },
   "outputs": [
    {
     "name": "stdout",
     "output_type": "stream",
     "text": [
      "File 515081.mp3\n",
      "\n",
      "The file 515081.mp3 has 12 annotations by 3 annotators\n",
      "metadata keywords: \n",
      "tweeting, birds, field-recording, nature:\n",
      " \n",
      "\n",
      "the following annotations by 3 annotators \n",
      "\n",
      "a3_01 with id 84704702810492203570508455757276662194775685610231578309011132791728316253685:\n",
      "                                             text      onset     offset\n",
      "4199                       birds chirping loudly  10.506879  12.054767\n",
      "7035   birds chirping silently in the background  18.551208  21.037211\n",
      "8330                       birds chirping loudly  14.540770  18.574661\n",
      "15031                      birds chirping loudly   0.000000   2.931607\n",
      "25424  birds chirping silently in the background   2.837795  10.553785\n",
      "25447  birds chirping silently in the background  12.007862  14.564223\n",
      "----------------------------------------------------------------------\n",
      "a3_02 with id 59535453388221859414776057874886065313858315756409120839410492187345784607095:\n",
      "                                                    text  onset     offset\n",
      "6070  Birds singing with occasionally pauses in between    0.0  21.095986\n",
      "----------------------------------------------------------------------\n",
      "a3_03 with id 100425450317906496390895388623230530869228496891340467419161733048453242108576:\n",
      "                                                     text      onset     offset\n",
      "6558   High pitched birds chirping in nature arrhythm...   0.000000   2.937546\n",
      "7433   High pitched birds chirping very quietly in th...  12.115098  14.523521\n",
      "17147  High pitched birds chirping in nature arrhythm...  14.505276  18.592297\n",
      "17909             A bird tweeting very loudly by itself.  10.527728  12.078607\n",
      "23706  High pitched birds chirping very quietly in th...   7.407726  10.509483\n",
      "----------------------------------------------------------------------\n"
     ]
    }
   ],
   "source": [
    "# analyzing annotations for 515081.mp3\n",
    "an_3 = annotations_filtered_3.loc[annotations_filtered_3['filename'] == '515081.mp3']\n",
    "a3_01 =  annotations.loc[(annotations[\"filename\"] == \"515081.mp3\") & (annotations[\"annotator\"] == an_3['annotator'].drop_duplicates().iloc[0])]\n",
    "a3_02 =  annotations.loc[(annotations[\"filename\"] == \"515081.mp3\") & (annotations[\"annotator\"] == an_3['annotator'].drop_duplicates().iloc[1])]\n",
    "a3_03 =  annotations.loc[(annotations[\"filename\"] == \"515081.mp3\") & (annotations[\"annotator\"] == an_3['annotator'].drop_duplicates().iloc[2])]\n",
    "\n",
    "keywords = metadata[metadata['filename'] == '515081.mp3']['keywords'].iloc[0]\n",
    "print(f\"File 515081.mp3\\n\")\n",
    "print(f\"The file 515081.mp3 has {len(an_3)} annotations by {len(an_3['annotator'].drop_duplicates())} annotators\")\n",
    "print(f\"metadata keywords: \\n{keywords}:\")\n",
    "print(f\" \\n\\nthe following annotations by 3 annotators\", \"\\n\")\n",
    "print(f\"a3_01 with id {a3_01.iloc[0, 2]}:\\n {a3_01[['text', 'onset', 'offset']]}\")\n",
    "print(\"-\" * 70)\n",
    "print(f\"a3_02 with id {a3_03.iloc[0, 2]}:\\n {a3_02[['text', 'onset', 'offset']]}\")\n",
    "print(\"-\" * 70)\n",
    "print(f\"a3_03 with id {a3_02.iloc[0, 2]}:\\n {a3_03[['text', 'onset', 'offset']]}\")\n",
    "print(\"-\" * 70)"
   ]
  },
  {
   "cell_type": "code",
   "execution_count": 24,
   "id": "36599b96-a8c3-47a9-bd49-f9f42cc7e59e",
   "metadata": {
    "tags": []
   },
   "outputs": [
    {
     "data": {
      "image/png": "[encoded data removed]",
      "text/plain": [
       "<Figure size 1000x300 with 1 Axes>"
      ]
     },
     "metadata": {},
     "output_type": "display_data"
    }
   ],
   "source": [
    "# Data: (onset, offset, label)\n",
    "a3_01 = [\n",
    "    (10.506879, 12.054767),\n",
    "    (18.551208, 21.037211),\n",
    "    (14.540770, 18.574661),\n",
    "    (0.000000, 2.931607),\n",
    "    (2.837795, 10.553785),\n",
    "    (12.007862, 14.564223),\n",
    "]\n",
    "\n",
    "a3_02 = [\n",
    "    (0.0, 21.095986),\n",
    "]\n",
    "\n",
    "a3_03 = [\n",
    "    (0.000000, 2.937546),\n",
    "    (12.115098, 14.523521),\n",
    "    (14.505276, 18.592297),\n",
    "    (10.527728, 12.078607),\n",
    "    (7.407726, 10.509483),\n",
    "]\n",
    "\n",
    "annotators = ['B', 'C', 'A']\n",
    "annotations = [a3_02, a3_03, a3_01]\n",
    "\n",
    "# Plot\n",
    "fig, ax = plt.subplots(figsize=(10, 3))\n",
    "\n",
    "for i, (label, anns) in enumerate(zip(annotators, annotations)):\n",
    "    for (start, end) in anns:\n",
    "        ax.barh(y=label, width=end - start, left=start, height=0.4)\n",
    "\n",
    "# Styling\n",
    "ax.set_xlabel(\"Time (s)\")\n",
    "ax.set_ylabel(\"Annotator\")\n",
    "ax.set_title(\"Annotation Intervals 515081.mp3\")\n",
    "ax.grid(True, axis='x', linestyle='--', alpha=0.5)\n",
    "\n",
    "plt.tight_layout()\n",
    "plt.savefig(\"annotation_intervals\")\n",
    "plt.show()\n"
   ]
  },
  {
   "cell_type": "code",
   "execution_count": 6,
   "id": "649835e9-34f2-412f-8ffe-63f8b11fe701",
   "metadata": {
    "tags": []
   },
   "outputs": [
    {
     "name": "stdout",
     "output_type": "stream",
     "text": [
      "(5423, 7)\n",
      "task_id                                                    161985829\n",
      "filename                                                   56696.mp3\n",
      "annotator          1688441243399859095829520104641879070247532203...\n",
      "text                          A man talking loudly in the background\n",
      "onset                                                      25.802332\n",
      "offset                                                     27.372698\n",
      "filename_unsafe                                56696_58_GRASSwav.mp3\n",
      "Name: 11, dtype: object\n",
      "There are 731 audio files with >= 2 annotators\n",
      "The file 56696.mp3 has 6 annotations by 2 annotators\n"
     ]
    }
   ],
   "source": [
    "\n",
    "files_with_2_or_more_annotators = annotator_counts[annotator_counts >= 2].index.tolist()\n",
    "annotations_filtered_2 = annotations[annotations[\"filename\"].isin(files_with_2_or_more_annotators)]\n",
    "\n",
    "print(annotations_filtered_2.shape)\n",
    "print(annotations_filtered_2.iloc[1, :])\n",
    "print(f\"There are {len(annotations_filtered_2[['filename']].drop_duplicates())} audio files with >= 2 annotators\")\n",
    "filename_2 = annotations_filtered_2.iloc[1, 1]\n",
    "an_2 = annotations_filtered_2.loc[annotations_filtered_2['filename'] == filename_2]\n",
    "\n",
    "\n",
    "# print(an_64)\n",
    "print(f\"The file {filename_2} has {len(an_2)} annotations by {len(an_2['annotator'].drop_duplicates())} annotators\")"
   ]
  },
  {
   "cell_type": "code",
   "execution_count": 7,
   "id": "a9ee87e3-03d2-44a9-88c3-9bca81b934cf",
   "metadata": {
    "tags": []
   },
   "outputs": [
    {
     "name": "stdout",
     "output_type": "stream",
     "text": [
      "File 56696.mp3\n",
      "\n",
      "metadata keywords: \n",
      "ambiance, cutter, grass, industry, machine:\n",
      " \n",
      "\n",
      "the following annotations by 2 annotators \n",
      "\n",
      "a2_01 with id 16884412433998590958295201046418790702475322036579696423693650596719891757391:\n",
      "                                               text      onset     offset\n",
      "11          A man talking loudly in the background  25.802332  27.372698\n",
      "4406   A loud grass-cutting machine sound outdoors   0.000000  27.372698\n",
      "27841     A kid screaming loudly in the background  23.241426  23.869573\n",
      "----------------------------------------------------------------------\n",
      "a2_02 with id 31399784615888520779712022413793685228274804251028833560156799174446262728298:\n",
      "                                                     text      onset     offset\n",
      "5035   Lawnmower is buzzing with a wavering uneven pa...   3.593855  23.574371\n",
      "11214  Man is yelling a short phrase overlapping with...  26.245034  27.431995\n",
      "32062     Lawnmower is buzzing with a wavering intensity   0.065942   3.132259\n",
      "----------------------------------------------------------------------\n"
     ]
    }
   ],
   "source": [
    "# analyzing annotations for 56696.mp3\n",
    "\n",
    "a2_01 =  annotations.loc[(annotations[\"filename\"] == \"56696.mp3\") & (annotations[\"annotator\"] == an_2['annotator'].drop_duplicates().iloc[0])]\n",
    "a2_02 =  annotations.loc[(annotations[\"filename\"] == \"56696.mp3\") & (annotations[\"annotator\"] == an_2['annotator'].drop_duplicates().iloc[1])]\n",
    "\n",
    "keywords = metadata[metadata['filename'] == '56696.mp3']['keywords'].iloc[0]\n",
    "print(f\"File 56696.mp3\\n\")\n",
    "print(f\"metadata keywords: \\n{keywords}:\")\n",
    "print(f\" \\n\\nthe following annotations by 2 annotators\", \"\\n\")\n",
    "print(f\"a2_01 with id {a2_01.iloc[0, 2]}:\\n {a2_01[['text', 'onset', 'offset']]}\")\n",
    "print(\"-\" * 70)\n",
    "print(f\"a2_02 with id {a2_02.iloc[0, 2]}:\\n {a2_02[['text', 'onset', 'offset']]}\")\n",
    "print(\"-\" * 70)\n"
   ]
  },
  {
   "cell_type": "code",
   "execution_count": null,
   "id": "60af187a-95d4-4076-bbcc-c48a5de5df91",
   "metadata": {},
   "outputs": [],
   "source": []
  }
 ],
 "metadata": {
  "kernelspec": {
   "display_name": "Python 3 (ipykernel)",
   "language": "python",
   "name": "python3"
  },
  "language_info": {
   "codemirror_mode": {
    "name": "ipython",
    "version": 3
   },
   "file_extension": ".py",
   "mimetype": "text/x-python",
   "name": "python",
   "nbconvert_exporter": "python",
   "pygments_lexer": "ipython3",
   "version": "3.11.5"
  }
 },
 "nbformat": 4,
 "nbformat_minor": 5
}
