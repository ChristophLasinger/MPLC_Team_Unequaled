{
 "cells": [
  {
   "cell_type": "code",
   "execution_count": 1,
   "id": "53932a2f-d69c-4f83-9652-409e8d6de11e",
   "metadata": {},
   "outputs": [],
   "source": [
    "import numpy as np\n",
    "import pandas as pd\n",
    "import os \n",
    "import matplotlib.pyplot as plt\n",
    "import sklearn\n",
    "from sklearn.preprocessing import StandardScaler\n",
    "from sklearn.metrics import f1_score, accuracy_score\n",
    "from sklearn.multiclass import OneVsRestClassifier"
   ]
  },
  {
   "cell_type": "code",
   "execution_count": 2,
   "id": "b0525ac1-3c65-4b70-b2ee-ee48818cdb1f",
   "metadata": {},
   "outputs": [],
   "source": [
    "DATA_SET_PATH = \"C:/Users/Anwender/Desktop/MLPC_project\"\n",
    "\n",
    "metadata = pd.read_csv(os.path.join(DATA_SET_PATH, 'metadata.csv'))\n",
    "files = metadata[\"filename\"]\n",
    "\n",
    "features_dir = 'audio_features'\n",
    "labels_dir = 'labels'\n",
    "categories = ['Airplane', 'Alarm', 'Beep/Bleep', 'Bell', 'Bicycle', 'Bird Chirp', 'Bus', 'Car', 'Cat Meow', 'Chainsaw', 'Clapping', 'Cough', 'Cow Moo', 'Cowbell', 'Crying', 'Dog Bark', 'Doorbell', 'Drip', 'Drums', 'Fire', 'Footsteps', 'Guitar', 'Hammer', 'Helicopter', 'Hiccup', 'Horn Honk', 'Horse Neigh', 'Insect Buzz', 'Jackhammer', 'Laughter', 'Lawn Mower', 'Motorcycle', 'Piano', 'Pig Oink', 'Power Drill', 'Power Saw', 'Rain', 'Rooster Crow', 'Saxophone', 'Sewing Machine', 'Sheep/Goat Bleat', 'Ship/Boat', 'Shout', 'Singing', 'Siren', 'Sneeze', 'Snoring', 'Speech', 'Stream/River', 'Thunder', 'Train', 'Truck', 'Trumpet', 'Vacuum Cleaner', 'Violin', 'Washing Machine', 'Waves', 'Wind']\n",
    "\n",
    "\n",
    "def aggregate_labels(file_labels):\n",
    "    __y = []\n",
    "    for frame_labels in file_labels:\n",
    "        votes = np.array(frame_labels)\n",
    "        vote_sum = np.sum(votes)\n",
    "        # Majority vote (≥ 50%)\n",
    "        __y.append(int(vote_sum >= len(votes) / 2))\n",
    "    return __y\n",
    "\n",
    "def read_files(file_names, num_to_read=1000):\n",
    "    X_train = []\n",
    "    Y_train = {}\n",
    "    for c in categories:\n",
    "        Y_train[c] = []\n",
    "    for f in file_names[:num_to_read]: #we are not loading the entire dataset due to processing time\n",
    "        if not os.path.exists(os.path.join(DATA_SET_PATH, features_dir , f.split('.')[0] + '.npz')):\n",
    "            continue\n",
    "        features = np.load(os.path.join(DATA_SET_PATH, features_dir , f.split('.')[0] + '.npz'))[\"embeddings\"]\n",
    "        X_train.append(features)\n",
    "        y = np.load(os.path.join(DATA_SET_PATH, labels_dir , f.split('.')[0] + '_labels.npz'))\n",
    "        for c in categories:\n",
    "            _y = aggregate_labels(y[c])\n",
    "            Y_train[c].extend(_y)\n",
    "    X_train = np.concatenate(X_train)\n",
    "    \n",
    "    return X_train, convert_y_dict_to_array(Y_train, categories)\n",
    "\n",
    "def convert_y_dict_to_array(y_dict, categories):\n",
    "    y_array = np.zeros((len(y_dict[categories[0]]), len(categories)), dtype=int)\n",
    "    for i, c in enumerate(categories):\n",
    "        y_array[:, i] = y_dict[c]\n",
    "    return y_array\n",
    "\n",
    "nf = len(files)\n",
    "sampled_files = files.sample(nf, random_state=0)\n",
    "\n",
    "# train set 70%, val set 20%, test set 10% --> could also val, test = 15 %\n",
    "train_files = sampled_files[:int(nf*0.7)]\n",
    "val_files = sampled_files[int(nf*0.7):int(nf*0.9)]\n",
    "test_files = sampled_files[int(nf*0.9):]"
   ]
  },
  {
   "cell_type": "code",
   "execution_count": 3,
   "id": "e3c865c8-a9b4-45bb-84de-ef905140e1f3",
   "metadata": {},
   "outputs": [],
   "source": [
    "file_fraction = 0.1\n",
    "X_train, Y_train = read_files(train_files, num_to_read=int(len(train_files)*file_fraction))\n",
    "X_val, Y_val = read_files(val_files, num_to_read=int(len(val_files)*file_fraction))\n",
    "X_test, Y_test = read_files(test_files, num_to_read=int(len(test_files)*file_fraction))\n",
    "\n",
    "# scale\n",
    "scaler = StandardScaler()\n",
    "X_train_scaled = scaler.fit_transform(X_train)\n",
    "X_val_scaled = scaler.transform(X_val)\n",
    "X_test_scaled = scaler.transform(X_test)\n",
    "\n",
    "# reduce size for testing\n",
    "x_train, y_train = X_train_scaled[:50000], Y_train[:50000]\n",
    "x_val, y_val = X_val_scaled[:5000], Y_val[:5000]\n",
    "#x_train, y_train = X_train_scaled, Y_train\n",
    "#x_val, y_val = X_val_scaled, Y_val\n",
    "\n",
    "# TODO maybe stratify?"
   ]
  },
  {
   "cell_type": "markdown",
   "id": "5b42260c",
   "metadata": {},
   "source": [
    "### Notably, the MultiLabelBaseline classifier in data-split_evaluation.ipynb is very bad, averaging the f1 scores leads to a misleadingly high score. A better baseline is needed."
   ]
  },
  {
   "cell_type": "markdown",
   "id": "1e531648-63d7-49c5-ba91-9509a3ce55e4",
   "metadata": {},
   "source": [
    "# Experiments"
   ]
  },
  {
   "cell_type": "markdown",
   "id": "33403070-b2f1-42b8-8af6-30e588b04d9d",
   "metadata": {},
   "source": [
    "## KNN"
   ]
  },
  {
   "cell_type": "code",
   "execution_count": null,
   "id": "d5e97b96-845e-41ba-87b7-33a29e4fcde4",
   "metadata": {},
   "outputs": [
    {
     "name": "stderr",
     "output_type": "stream",
     "text": [
      "c:\\Users\\Anwender\\anaconda3\\envs\\handsonAI\\Lib\\site-packages\\sklearn\\multiclass.py:90: UserWarning: Label not 12 is present in all training examples.\n",
      "  warnings.warn(\n",
      "c:\\Users\\Anwender\\anaconda3\\envs\\handsonAI\\Lib\\site-packages\\sklearn\\multiclass.py:90: UserWarning: Label not 16 is present in all training examples.\n",
      "  warnings.warn(\n"
     ]
    },
    {
     "name": "stdout",
     "output_type": "stream",
     "text": [
      "knn with n=1:\n",
      "    val macro f1 score: 0.2035\n",
      "    val weighted f1 score: 0.5142\n",
      "    val sampled f1 score: 0.5275\n"
     ]
    },
    {
     "name": "stderr",
     "output_type": "stream",
     "text": [
      "c:\\Users\\Anwender\\anaconda3\\envs\\handsonAI\\Lib\\site-packages\\sklearn\\multiclass.py:90: UserWarning: Label not 12 is present in all training examples.\n",
      "  warnings.warn(\n",
      "c:\\Users\\Anwender\\anaconda3\\envs\\handsonAI\\Lib\\site-packages\\sklearn\\multiclass.py:90: UserWarning: Label not 16 is present in all training examples.\n",
      "  warnings.warn(\n"
     ]
    },
    {
     "name": "stdout",
     "output_type": "stream",
     "text": [
      "knn with n=5:\n",
      "    val macro f1 score: 0.1838\n",
      "    val weighted f1 score: 0.4862\n",
      "    val sampled f1 score: 0.5059\n"
     ]
    },
    {
     "name": "stderr",
     "output_type": "stream",
     "text": [
      "c:\\Users\\Anwender\\anaconda3\\envs\\handsonAI\\Lib\\site-packages\\sklearn\\multiclass.py:90: UserWarning: Label not 12 is present in all training examples.\n",
      "  warnings.warn(\n",
      "c:\\Users\\Anwender\\anaconda3\\envs\\handsonAI\\Lib\\site-packages\\sklearn\\multiclass.py:90: UserWarning: Label not 16 is present in all training examples.\n",
      "  warnings.warn(\n"
     ]
    },
    {
     "name": "stdout",
     "output_type": "stream",
     "text": [
      "knn with n=10:\n",
      "    val macro f1 score: 0.1831\n",
      "    val weighted f1 score: 0.4844\n",
      "    val sampled f1 score: 0.5008\n"
     ]
    },
    {
     "name": "stderr",
     "output_type": "stream",
     "text": [
      "c:\\Users\\Anwender\\anaconda3\\envs\\handsonAI\\Lib\\site-packages\\sklearn\\multiclass.py:90: UserWarning: Label not 12 is present in all training examples.\n",
      "  warnings.warn(\n",
      "c:\\Users\\Anwender\\anaconda3\\envs\\handsonAI\\Lib\\site-packages\\sklearn\\multiclass.py:90: UserWarning: Label not 16 is present in all training examples.\n",
      "  warnings.warn(\n"
     ]
    },
    {
     "name": "stdout",
     "output_type": "stream",
     "text": [
      "knn with n=20:\n",
      "    val macro f1 score: 0.1839\n",
      "    val weighted f1 score: 0.4858\n",
      "    val sampled f1 score: 0.5015\n"
     ]
    },
    {
     "name": "stderr",
     "output_type": "stream",
     "text": [
      "c:\\Users\\Anwender\\anaconda3\\envs\\handsonAI\\Lib\\site-packages\\sklearn\\multiclass.py:90: UserWarning: Label not 12 is present in all training examples.\n",
      "  warnings.warn(\n",
      "c:\\Users\\Anwender\\anaconda3\\envs\\handsonAI\\Lib\\site-packages\\sklearn\\multiclass.py:90: UserWarning: Label not 16 is present in all training examples.\n",
      "  warnings.warn(\n"
     ]
    },
    {
     "name": "stdout",
     "output_type": "stream",
     "text": [
      "knn with n=100:\n",
      "    val macro f1 score: 0.1777\n",
      "    val weighted f1 score: 0.4832\n",
      "    val sampled f1 score: 0.4874\n"
     ]
    },
    {
     "data": {
      "image/png": "[encoded data removed]",
      "text/plain": [
       "<Figure size 1200x800 with 1 Axes>"
      ]
     },
     "metadata": {},
     "output_type": "display_data"
    }
   ],
   "source": [
    "from sklearn.neighbors import KNeighborsClassifier\n",
    "\n",
    "n_neighbors_list = [1, 5, 10, 20, 100] # n=1 heavily overfits, train f1=1.0\n",
    "knn_val_macro_scores = []\n",
    "knn_val_weighted_scores = []\n",
    "knn_val_sampled_scores = []\n",
    "\n",
    "for n in n_neighbors_list:\n",
    "    knn_model_n = OneVsRestClassifier(KNeighborsClassifier(n))\n",
    "    knn_model_n.fit(x_train, y_train)\n",
    "    print(f'knn with n={n}:')\n",
    "    \n",
    "    knn_val_pred = knn_model_n.predict(x_val)\n",
    "    knn_val_f1_m = f1_score(y_val, knn_val_pred, average='macro', zero_division=0)\n",
    "    knn_val_macro_scores.append(knn_val_f1_m)\n",
    "    print(f'    val macro f1 score: {knn_val_f1_m:.4f}')\n",
    "\n",
    "    knn_val_f1_w = f1_score(y_val, knn_val_pred, average='weighted', zero_division=0)\n",
    "    knn_val_weighted_scores.append(knn_val_f1_w)\n",
    "    print(f'    val weighted f1 score: {knn_val_f1_w:.4f}')\n",
    "\n",
    "    knn_val_f1_s = f1_score(y_val, knn_val_pred, average='samples', zero_division=0)\n",
    "    knn_val_sampled_scores.append(knn_val_f1_s)\n",
    "    print(f'    val sampled f1 score: {knn_val_f1_s:.4f}')\n",
    "    \n",
    "    # knn_train_pred = knn_model_n.predict(x_train)\n",
    "    # knn_train_f1 = f1_score(y_train, knn_train_pred, average='macro')\n",
    "    # print(f'    train macro f1 score: {knn_train_f1}')\n",
    "\n",
    "plt.figure(figsize=(12, 8))\n",
    "plt.plot(n_neighbors_list, knn_val_macro_scores, marker='o', label='Validation Macro F1 Score', color='blue')\n",
    "plt.plot(n_neighbors_list, knn_val_weighted_scores, marker='o', label='Validation Weighted F1 Score', color='red')\n",
    "plt.plot(n_neighbors_list, knn_val_sampled_scores, marker='o', label='Validation Sampled F1 Score', color='green')\n",
    "plt.xlabel('Number of Neighbors (n)')\n",
    "plt.ylabel('F1 Score')\n",
    "plt.title('K-Nearest Neighbors Hyperparameter Tuning')\n",
    "plt.xticks(n_neighbors_list)\n",
    "plt.grid(True)\n",
    "plt.legend()\n",
    "plt.tight_layout()\n",
    "plt.savefig('knn_hyperparameter_tuning.png')"
   ]
  },
  {
   "cell_type": "markdown",
   "id": "c49d843f",
   "metadata": {},
   "source": [
    "## Decision Trees"
   ]
  },
  {
   "cell_type": "code",
   "execution_count": null,
   "id": "399e3438",
   "metadata": {},
   "outputs": [
    {
     "name": "stderr",
     "output_type": "stream",
     "text": [
      "c:\\Users\\Anwender\\anaconda3\\envs\\handsonAI\\Lib\\site-packages\\sklearn\\multiclass.py:90: UserWarning: Label not 12 is present in all training examples.\n",
      "  warnings.warn(\n",
      "c:\\Users\\Anwender\\anaconda3\\envs\\handsonAI\\Lib\\site-packages\\sklearn\\multiclass.py:90: UserWarning: Label not 16 is present in all training examples.\n",
      "  warnings.warn(\n"
     ]
    }
   ],
   "source": [
    "from sklearn.tree import DecisionTreeClassifier\n",
    "\n",
    "max_depth_list = [1, 5, 10, 20, None]  # None means no max depth (full tree)\n",
    "dt_val_macro_scores = []\n",
    "dt_val_weighted_scores = []\n",
    "dt_val_sampled_scores = []\n",
    "\n",
    "for depth in max_depth_list:\n",
    "    dt_model = OneVsRestClassifier(DecisionTreeClassifier(max_depth=depth, min_samples_split=1000, min_samples_leaf=100, random_state=0))\n",
    "    dt_model.fit(x_train, y_train)\n",
    "    print(f'Decision Tree with max_depth={depth}:')\n",
    "    \n",
    "    dt_val_pred = dt_model.predict(x_val)\n",
    "    dt_val_f1_m = f1_score(y_val, dt_val_pred, average='macro', zero_division=0)\n",
    "    dt_val_macro_scores.append(dt_val_f1_m)\n",
    "    print(f'    val macro f1 score: {dt_val_f1_m:.4f}')\n",
    "\n",
    "    dt_val_f1_w = f1_score(y_val, dt_val_pred, average='weighted', zero_division=0)\n",
    "    dt_val_weighted_scores.append(dt_val_f1_w)\n",
    "    print(f'    val weighted f1 score: {dt_val_f1_w:.4f}')\n",
    "\n",
    "    dt_val_f1_s = f1_score(y_val, dt_val_pred, average='samples', zero_division=0)\n",
    "    dt_val_sampled_scores.append(dt_val_f1_s)\n",
    "    print(f'    val sampled f1 score: {dt_val_f1_s:.4f}')\n",
    "\n",
    "plt.figure(figsize=(12, 8))\n",
    "plt.plot([str(d) for d in max_depth_list], dt_val_macro_scores, marker='o', label='Validation Macro F1 Score', color='blue')\n",
    "plt.plot([str(d) for d in max_depth_list], dt_val_weighted_scores, marker='o', label='Validation Weighted F1 Score', color='red')\n",
    "plt.plot([str(d) for d in max_depth_list], dt_val_sampled_scores, marker='o', label='Validation Sampled F1 Score', color='green')\n",
    "plt.xlabel('Max Depth')\n",
    "plt.ylabel('F1 Score')\n",
    "plt.title('Decision Tree Hyperparameter Tuning')\n",
    "plt.grid(True)\n",
    "plt.legend()\n",
    "plt.tight_layout()\n",
    "plt.savefig('dt_hyperparameter_tuning.png')"
   ]
  },
  {
   "cell_type": "markdown",
   "id": "2c7546c4",
   "metadata": {},
   "source": [
    "## SVM"
   ]
  },
  {
   "cell_type": "code",
   "execution_count": null,
   "id": "548027fc",
   "metadata": {},
   "outputs": [
    {
     "name": "stdout",
     "output_type": "stream",
     "text": [
      "SVM with kernel=linear, C=0.1:\n",
      "    val macro f1 score: 0.1914\n",
      "    val weighted f1 score: 0.4861\n",
      "    val sampled f1 score: 0.4636\n"
     ]
    }
   ],
   "source": [
    "from sklearn.exceptions import ConvergenceWarning\n",
    "from sklearn.svm import SVC\n",
    "from sklearn.svm import LinearSVC\n",
    "import warnings\n",
    "warnings.filterwarnings(\"ignore\", category=UserWarning, module='sklearn')\n",
    "warnings.filterwarnings(\"ignore\", category=ConvergenceWarning, module='sklearn')\n",
    "\n",
    "kernel_list = ['linear', 'rbf']\n",
    "C_list = [0.1, 1, 10]\n",
    "# gamma_list = ['scale', 'auto'] does not make a difference\n",
    "svm_val_macro_scores = {'linear': [], 'rbf': []}\n",
    "svm_val_weighted_scores = {'linear': [], 'rbf': []}\n",
    "svm_val_sampled_scores = {'linear': [], 'rbf': []}\n",
    "\n",
    "for kernel in kernel_list:\n",
    "    for C in C_list:\n",
    "        # svm_model_n = OneVsRestClassifier(SVC(kernel=kernel, C=C, gamma='scale', max_iter=1000)) if kernel != 'linear' else OneVsRestClassifier(LinearSVC(C=C, max_iter=1000))\n",
    "        svm_model_n = OneVsRestClassifier(SVC(kernel=kernel, C=C, gamma='scale', max_iter=1000))\n",
    "        svm_model_n.fit(x_train, y_train)\n",
    "        print(f'SVM with kernel={kernel}, C={C}:')\n",
    "        \n",
    "        svm_val_pred = svm_model_n.predict(x_val)\n",
    "        svm_val_f1 = f1_score(y_val, svm_val_pred, average='macro', zero_division=0)\n",
    "        svm_val_macro_scores[kernel].append(svm_val_f1)\n",
    "        print(f'    val macro f1 score: {svm_val_f1:.4f}')\n",
    "        \n",
    "        svm_val_f1_w = f1_score(y_val, svm_val_pred, average='weighted', zero_division=0)\n",
    "        svm_val_weighted_scores[kernel].append(svm_val_f1_w)\n",
    "        print(f'    val weighted f1 score: {svm_val_f1_w:.4f}')\n",
    "\n",
    "        svm_val_f1_s = f1_score(y_val, svm_val_pred, average='samples', zero_division=0)\n",
    "        svm_val_sampled_scores[kernel].append(svm_val_f1_s)\n",
    "        print(f'    val sampled f1 score: {svm_val_f1_s:.4f}')\n",
    "\n",
    "svm_results = []\n",
    "for kernel in kernel_list:\n",
    "    for i, C in enumerate(C_list):\n",
    "        svm_results.append({\n",
    "            'kernel': kernel,\n",
    "            'C': C,\n",
    "            'val_macro_f1': svm_val_macro_scores[kernel][i],\n",
    "            'val_weighted_f1': svm_val_weighted_scores[kernel][i],\n",
    "            'val_sampled_f1': svm_val_sampled_scores[kernel][i]\n",
    "        })\n",
    "svm_results_sorted = sorted(svm_results, key=lambda r: r['val_weighted_f1'] + r['val_macro_f1'] + r['val_sampled_f1'], reverse=True)\n",
    "labels = [f'kernel={r[\"kernel\"]}, C={r[\"C\"]}' for r in svm_results_sorted]\n",
    "macro_f1_scores = [r['val_macro_f1'] for r in svm_results_sorted]\n",
    "weighted_f1_scores = [r['val_weighted_f1'] - r['val_macro_f1'] for r in svm_results_sorted]\n",
    "sampled_f1_scores = [r['val_sampled_f1'] - r['val_weighted_f1'] - r['val_macro_f1'] for r in svm_results_sorted]\n",
    "\n",
    "plt.figure(figsize=(12, 8))\n",
    "x = range(len(labels))\n",
    "plt.bar(x, macro_f1_scores, label='Macro F1 Score', color='blue')\n",
    "plt.bar(x, weighted_f1_scores, bottom=macro_f1_scores, label='Weighted F1 Score', color='red')\n",
    "plt.bar(x, sampled_f1_scores, bottom=np.array(macro_f1_scores) + np.array(weighted_f1_scores), label='Sampled F1 Score', color='green')\n",
    "plt.xticks(x, labels, rotation=90, fontsize=8)\n",
    "plt.ylabel('F1 Score')\n",
    "plt.title('SVM Hyperparameter Tuning')\n",
    "plt.legend()\n",
    "plt.tight_layout()\n",
    "plt.savefig('svm_hyperparameter_tuning.png')"
   ]
  },
  {
   "cell_type": "markdown",
   "id": "75da1d1e",
   "metadata": {},
   "source": [
    "## NN"
   ]
  },
  {
   "cell_type": "code",
   "execution_count": null,
   "id": "5dbe2793",
   "metadata": {},
   "outputs": [
    {
     "name": "stderr",
     "output_type": "stream",
     "text": [
      "c:\\Users\\Anwender\\anaconda3\\envs\\handsonAI\\Lib\\site-packages\\sklearn\\neural_network\\_multilayer_perceptron.py:691: ConvergenceWarning: Stochastic Optimizer: Maximum iterations (100) reached and the optimization hasn't converged yet.\n",
      "  warnings.warn(\n"
     ]
    },
    {
     "name": "stdout",
     "output_type": "stream",
     "text": [
      "MLP with hidden layers=(128,), activation=relu, alpha=0.0001:\n",
      "    val macro f1 score: 0.1742\n",
      "    val weighted f1 score: 0.4640\n"
     ]
    },
    {
     "name": "stderr",
     "output_type": "stream",
     "text": [
      "c:\\Users\\Anwender\\anaconda3\\envs\\handsonAI\\Lib\\site-packages\\sklearn\\neural_network\\_multilayer_perceptron.py:691: ConvergenceWarning: Stochastic Optimizer: Maximum iterations (100) reached and the optimization hasn't converged yet.\n",
      "  warnings.warn(\n"
     ]
    },
    {
     "name": "stdout",
     "output_type": "stream",
     "text": [
      "MLP with hidden layers=(128,), activation=relu, alpha=0.001:\n",
      "    val macro f1 score: 0.1845\n",
      "    val weighted f1 score: 0.4851\n"
     ]
    },
    {
     "name": "stderr",
     "output_type": "stream",
     "text": [
      "c:\\Users\\Anwender\\anaconda3\\envs\\handsonAI\\Lib\\site-packages\\sklearn\\neural_network\\_multilayer_perceptron.py:691: ConvergenceWarning: Stochastic Optimizer: Maximum iterations (100) reached and the optimization hasn't converged yet.\n",
      "  warnings.warn(\n"
     ]
    },
    {
     "name": "stdout",
     "output_type": "stream",
     "text": [
      "MLP with hidden layers=(128,), activation=relu, alpha=0.01:\n",
      "    val macro f1 score: 0.1842\n",
      "    val weighted f1 score: 0.4787\n"
     ]
    },
    {
     "name": "stderr",
     "output_type": "stream",
     "text": [
      "c:\\Users\\Anwender\\anaconda3\\envs\\handsonAI\\Lib\\site-packages\\sklearn\\neural_network\\_multilayer_perceptron.py:691: ConvergenceWarning: Stochastic Optimizer: Maximum iterations (100) reached and the optimization hasn't converged yet.\n",
      "  warnings.warn(\n"
     ]
    },
    {
     "name": "stdout",
     "output_type": "stream",
     "text": [
      "MLP with hidden layers=(128,), activation=tanh, alpha=0.0001:\n",
      "    val macro f1 score: 0.1970\n",
      "    val weighted f1 score: 0.5081\n"
     ]
    },
    {
     "name": "stderr",
     "output_type": "stream",
     "text": [
      "c:\\Users\\Anwender\\anaconda3\\envs\\handsonAI\\Lib\\site-packages\\sklearn\\neural_network\\_multilayer_perceptron.py:691: ConvergenceWarning: Stochastic Optimizer: Maximum iterations (100) reached and the optimization hasn't converged yet.\n",
      "  warnings.warn(\n"
     ]
    },
    {
     "name": "stdout",
     "output_type": "stream",
     "text": [
      "MLP with hidden layers=(128,), activation=tanh, alpha=0.001:\n",
      "    val macro f1 score: 0.2154\n",
      "    val weighted f1 score: 0.5348\n",
      "MLP with hidden layers=(128,), activation=tanh, alpha=0.01:\n",
      "    val macro f1 score: 0.2301\n",
      "    val weighted f1 score: 0.5588\n",
      "MLP with hidden layers=(256, 128), activation=relu, alpha=0.0001:\n",
      "    val macro f1 score: 0.1843\n",
      "    val weighted f1 score: 0.4805\n",
      "MLP with hidden layers=(256, 128), activation=relu, alpha=0.001:\n",
      "    val macro f1 score: 0.1756\n",
      "    val weighted f1 score: 0.4673\n",
      "MLP with hidden layers=(256, 128), activation=relu, alpha=0.01:\n",
      "    val macro f1 score: 0.1878\n",
      "    val weighted f1 score: 0.4674\n"
     ]
    },
    {
     "name": "stderr",
     "output_type": "stream",
     "text": [
      "c:\\Users\\Anwender\\anaconda3\\envs\\handsonAI\\Lib\\site-packages\\sklearn\\neural_network\\_multilayer_perceptron.py:691: ConvergenceWarning: Stochastic Optimizer: Maximum iterations (100) reached and the optimization hasn't converged yet.\n",
      "  warnings.warn(\n"
     ]
    },
    {
     "name": "stdout",
     "output_type": "stream",
     "text": [
      "MLP with hidden layers=(256, 128), activation=tanh, alpha=0.0001:\n",
      "    val macro f1 score: 0.1886\n",
      "    val weighted f1 score: 0.5142\n",
      "MLP with hidden layers=(256, 128), activation=tanh, alpha=0.001:\n",
      "    val macro f1 score: 0.2328\n",
      "    val weighted f1 score: 0.5812\n",
      "MLP with hidden layers=(256, 128), activation=tanh, alpha=0.01:\n",
      "    val macro f1 score: 0.2075\n",
      "    val weighted f1 score: 0.5356\n"
     ]
    },
    {
     "name": "stderr",
     "output_type": "stream",
     "text": [
      "c:\\Users\\Anwender\\anaconda3\\envs\\handsonAI\\Lib\\site-packages\\sklearn\\neural_network\\_multilayer_perceptron.py:691: ConvergenceWarning: Stochastic Optimizer: Maximum iterations (100) reached and the optimization hasn't converged yet.\n",
      "  warnings.warn(\n"
     ]
    },
    {
     "name": "stdout",
     "output_type": "stream",
     "text": [
      "MLP with hidden layers=(512, 256), activation=relu, alpha=0.0001:\n",
      "    val macro f1 score: 0.1709\n",
      "    val weighted f1 score: 0.4766\n",
      "MLP with hidden layers=(512, 256), activation=relu, alpha=0.001:\n",
      "    val macro f1 score: 0.1826\n",
      "    val weighted f1 score: 0.4893\n"
     ]
    },
    {
     "name": "stderr",
     "output_type": "stream",
     "text": [
      "c:\\Users\\Anwender\\anaconda3\\envs\\handsonAI\\Lib\\site-packages\\sklearn\\neural_network\\_multilayer_perceptron.py:698: UserWarning: Training interrupted by user.\n",
      "  warnings.warn(\"Training interrupted by user.\")\n"
     ]
    },
    {
     "name": "stdout",
     "output_type": "stream",
     "text": [
      "MLP with hidden layers=(512, 256), activation=relu, alpha=0.01:\n",
      "    val macro f1 score: 0.1735\n",
      "    val weighted f1 score: 0.4750\n"
     ]
    },
    {
     "name": "stderr",
     "output_type": "stream",
     "text": [
      "c:\\Users\\Anwender\\anaconda3\\envs\\handsonAI\\Lib\\site-packages\\sklearn\\neural_network\\_multilayer_perceptron.py:698: UserWarning: Training interrupted by user.\n",
      "  warnings.warn(\"Training interrupted by user.\")\n"
     ]
    },
    {
     "name": "stdout",
     "output_type": "stream",
     "text": [
      "MLP with hidden layers=(512, 256), activation=tanh, alpha=0.0001:\n",
      "    val macro f1 score: 0.2429\n",
      "    val weighted f1 score: 0.5881\n"
     ]
    }
   ],
   "source": [
    "hidden_layers_list = [(128, ), (256, 128), (512, 256)] # (512, 256, 128) heavily overfits\n",
    "activation_list = ['relu', 'tanh']\n",
    "alpha_list = [0.0001, 0.001, 0.01]\n",
    "\n",
    "results = []\n",
    "for hidden_layers in hidden_layers_list:\n",
    "    for activation in activation_list:\n",
    "        for alpha in alpha_list:\n",
    "            mlp_model = sklearn.neural_network.MLPClassifier(\n",
    "                hidden_layer_sizes=hidden_layers,\n",
    "                activation=activation,\n",
    "                alpha=alpha,\n",
    "                solver='adam',\n",
    "                max_iter=100,\n",
    "                random_state=0,\n",
    "                verbose=False\n",
    "            )\n",
    "\n",
    "            mlp_model.fit(x_train, y_train)\n",
    "            mlp_val_pred = mlp_model.predict(x_val)\n",
    "            mlp_val_f1_m = f1_score(y_val, mlp_val_pred, average='macro', zero_division=0)\n",
    "            mlp_val_f1_w = f1_score(y_val, mlp_val_pred, average='weighted', zero_division=0)\n",
    "            mlp_val_f1_s = f1_score(y_val, mlp_val_pred, average='samples', zero_division=0)\n",
    "\n",
    "            print(f'Neural Network with hidden layers={hidden_layers}, activation={activation}, alpha={alpha}:')\n",
    "            print(f'    val macro f1 score: {mlp_val_f1_m:.4f}')\n",
    "            print(f'    val weighted f1 score: {mlp_val_f1_w:.4f}')\n",
    "            print(f'    val sampled f1 score: {mlp_val_f1_s:.4f}')\n",
    "            results.append({\n",
    "                'hidden_layers': hidden_layers,\n",
    "                'activation': activation,\n",
    "                'alpha': alpha,\n",
    "                'val_macro_f1': mlp_val_f1_m,\n",
    "                'val_weighted_f1': mlp_val_f1_w,\n",
    "                'val_sampled_f1': mlp_val_f1_s\n",
    "            })\n",
    "\n",
    "n_results_sorted = sorted(results, key=lambda x: x['val_weighted_f1'] + x['val_weighted_f1'], reverse=True)\n",
    "labels = [f'{r['hidden_layers']}, {r['activation']}, {r['alpha']}' for r in n_results_sorted]\n",
    "macro_f1_scores = [r['val_macro_f1'] for r in n_results_sorted]\n",
    "weighted_f1_scores = [r['val_weighted_f1'] - r['val_macro_f1'] for r in n_results_sorted]  # stacked above macro\n",
    "sampled_f1_scores = [r['val_sampled_f1'] - r['val_weighted_f1'] - r['val_macro_f1'] for r in n_results_sorted]\n",
    "plt.figure(figsize=(12, 6))\n",
    "x = range(len(labels))\n",
    "plt.bar(x, macro_f1_scores, label='Macro F1 Score', color='blue')\n",
    "plt.bar(x, weighted_f1_scores, bottom=macro_f1_scores, label='Weighted F1 Score', color='red')\n",
    "plt.bar(x, sampled_f1_scores, bottom=np.array(macro_f1_scores) + np.array(weighted_f1_scores), label='Sampled F1 Score', color='green')\n",
    "plt.xticks(x, labels, rotation=90, fontsize=8)\n",
    "plt.xlabel(\"Hyperparameter combinations\")\n",
    "plt.ylabel(\"Validation F1 Score\")\n",
    "plt.title(\"Neural Network Hyperparameter Tuning\")\n",
    "plt.legend()\n",
    "plt.tight_layout()\n",
    "plt.show()\n",
    "plt.savefig(\"nn_hyperparameter_tuning.png\")"
   ]
  },
  {
   "cell_type": "markdown",
   "id": "7f8a6b15",
   "metadata": {},
   "source": [
    "## evaluate models with best parameters on test set"
   ]
  },
  {
   "cell_type": "code",
   "execution_count": null,
   "id": "76f7d6a8",
   "metadata": {},
   "outputs": [
    {
     "name": "stdout",
     "output_type": "stream",
     "text": [
      "reading data...\n"
     ]
    }
   ],
   "source": [
    "print('reading data...')\n",
    "file_fraction = 1\n",
    "X_train, Y_train = read_files(train_files, num_to_read=int(len(train_files)*file_fraction))\n",
    "X_val, Y_val = read_files(val_files, num_to_read=int(len(val_files)*file_fraction))\n",
    "X_test, Y_test = read_files(test_files, num_to_read=int(len(test_files)*file_fraction))\n",
    "\n",
    "print('scaling data...')\n",
    "scaler = StandardScaler()\n",
    "X_train_scaled = scaler.fit_transform(X_train)\n",
    "X_test_scaled = scaler.transform(X_test)\n",
    "\n",
    "\n",
    "del X_train, X_test # free memory"
   ]
  },
  {
   "cell_type": "code",
   "execution_count": null,
   "id": "63311f3f",
   "metadata": {},
   "outputs": [
    {
     "name": "stdout",
     "output_type": "stream",
     "text": [
      "knn with n=100:\n",
      "     training...\n",
      "     evaluating...\n",
      "    knn test macro f1 score: 0.4992\n",
      "    knn test weighted f1 score: 0.5577\n"
     ]
    }
   ],
   "source": [
    "print('knn with n=1:')\n",
    "knn_best_model = sklearn.neighbors.KNeighborsClassifier(1)\n",
    "print(f'    training...')\n",
    "knn_best_model.fit(X_train_scaled, Y_train)\n",
    "print(f'    evaluating...')\n",
    "knn_test_pred = knn_best_model.predict(X_test_scaled)\n",
    "knn_test_m_f1 = f1_score(Y_test, knn_test_pred, average='macro')\n",
    "knn_test_w_f1 = f1_score(Y_test, knn_test_pred, average='weighted')\n",
    "knn_test_s_f1 = f1_score(Y_test, knn_test_pred, average='samples')\n",
    "print(f\"    knn test macro f1 score: {knn_test_m_f1:.4f}\")\n",
    "print(f\"    knn test weighted f1 score: {knn_test_w_f1:.4f}\")\n",
    "print(f\"    knn test sampled f1 score: {knn_test_s_f1:.4f}\")\n",
    "knn_test_balanced_acc = sklearn.metrics.balanced_accuracy_score(Y_test, knn_test_pred)\n",
    "knn_test_acc = accuracy_score(Y_test, knn_test_pred)\n",
    "print(f\"    knn test accuracy score: {knn_test_acc:.4f}\")\n",
    "print(f\"    knn test balanced accuracy score: {knn_test_balanced_acc:.4f}\")"
   ]
  },
  {
   "cell_type": "code",
   "execution_count": null,
   "id": "787c15b3",
   "metadata": {},
   "outputs": [],
   "source": [
    "print('decision tree with max_depth=10:') # change to best depth\n",
    "dt_best_model = sklearn.tree.DecisionTreeClassifier(max_depth=10)\n",
    "print(f'    training...')\n",
    "dt_best_model.fit(X_train_scaled, Y_train)\n",
    "print(f'    evaluating...')\n",
    "dt_test_pred = dt_best_model.predict(X_test_scaled)\n",
    "dt_test_m_f1 = f1_score(Y_test, dt_test_pred, average='macro')\n",
    "dt_test_w_f1 = f1_score(Y_test, dt_test_pred, average='weighted')\n",
    "dt_test_s_f1 = f1_score(Y_test, dt_test_pred, average='samples')\n",
    "print(f\"    dt test macro f1 score: {dt_test_m_f1:.4f}\")\n",
    "print(f\"    dt test weighted f1 score: {dt_test_w_f1:.4f}\")\n",
    "print(f\"    dt test sampled f1 score: {dt_test_s_f1:.4f}\")\n",
    "dt_test_balanced_acc = sklearn.metrics.balanced_accuracy_score(Y_test, dt_test_pred)\n",
    "dt_test_acc = accuracy_score(Y_test, dt_test_pred)\n",
    "print(f\"    dt test accuracy score: {dt_test_acc:.4f}\")\n",
    "print(f\"    dt test balanced accuracy score: {dt_test_balanced_acc:.4f}\")"
   ]
  },
  {
   "cell_type": "code",
   "execution_count": null,
   "id": "1b4e65b9",
   "metadata": {},
   "outputs": [
    {
     "name": "stdout",
     "output_type": "stream",
     "text": [
      "svm linear with c=0.1:\n",
      "     training svm...\n"
     ]
    }
   ],
   "source": [
    "print('svm linear with c=0.1:')\n",
    "svm_best_model = sklearn.svm.LinearSVC(C=0.1, max_iter=1000)\n",
    "print('     training svm...')\n",
    "svm_best_model.fit(X_train_scaled, Y_train)\n",
    "print('     evaluating svm...')\n",
    "svm_test_pred = svm_best_model.predict(X_test_scaled)\n",
    "svm_test_m_f1 = f1_score(Y_test, svm_test_pred, average='macro')\n",
    "svm_test_w_f1 = f1_score(Y_test, svm_test_pred, average='weighted')\n",
    "print(f\"    svm test macro f1 score: {svm_test_m_f1:.4f}\")\n",
    "print(f\"    svm test weighted f1 score: {svm_test_w_f1:.4f}\")\n",
    "svm_test_balanced_acc = sklearn.metrics.balanced_accuracy_score(Y_test, svm_test_pred)\n",
    "svm_test_acc = accuracy_score(Y_test, svm_test_pred)\n",
    "print(f\"    knn test accuracy score: {svm_test_acc:.4f}\")\n",
    "print(f\"    knn test balanced accuracy score: {svm_test_balanced_acc:.4f}\")"
   ]
  },
  {
   "cell_type": "code",
   "execution_count": null,
   "id": "48392159",
   "metadata": {},
   "outputs": [
    {
     "name": "stdout",
     "output_type": "stream",
     "text": [
      "nn with hidden layers (256, 128), activation tanh, alpha 0.01:\n",
      "     training nn...\n"
     ]
    }
   ],
   "source": [
    "print('nn with hidden layers (256, 128), activation tanh, alpha 0.01:')\n",
    "nn_best_model = sklearn.neural_network.MLPClassifier(hidden_layer_sizes=(256, 128), activation='tanh', alpha=0.01, solver='adam', max_iter=100, random_state=0, verbose=False)\n",
    "print(f'    training nn...')\n",
    "nn_best_model.fit(X_train_scaled, Y_train)\n",
    "print(f'    evaluating nn...')\n",
    "nn_test_pred = nn_best_model.predict(X_test_scaled)\n",
    "nn_test_m_f1 = f1_score(Y_test, nn_test_pred, average='macro')\n",
    "nn_test_w_f1 = f1_score(Y_test, nn_test_pred, average='weighted')\n",
    "nn_test_s_f1 = f1_score(Y_test, nn_test_pred, average='samples')\n",
    "print(f\"    nn test macro f1 score: {nn_test_m_f1:.4f}\")\n",
    "print(f\"    nn test weighted f1 score: {nn_test_w_f1:.4f}\")\n",
    "print(f\"    nn test sampled f1 score: {nn_test_s_f1:.4f}\")\n",
    "nn_test_balanced_acc = sklearn.metrics.balanced_accuracy_score(Y_test, nn_test_pred)\n",
    "nn_test_acc = accuracy_score(Y_test, nn_test_pred)\n",
    "print(f\"     nn test accuracy score: {nn_test_acc:.4f}\")\n",
    "print(f\"     nn test balanced accuracy score: {nn_test_balanced_acc:.4f}\")"
   ]
  }
 ],
 "metadata": {
  "kernelspec": {
   "display_name": "handsonAI",
   "language": "python",
   "name": "python3"
  },
  "language_info": {
   "codemirror_mode": {
    "name": "ipython",
    "version": 3
   },
   "file_extension": ".py",
   "mimetype": "text/x-python",
   "name": "python",
   "nbconvert_exporter": "python",
   "pygments_lexer": "ipython3",
   "version": "3.12.10"
  }
 },
 "nbformat": 4,
 "nbformat_minor": 5
}
